{
 "cells": [
  {
   "cell_type": "code",
   "execution_count": null,
   "metadata": {},
   "outputs": [],
   "source": [
    "import json\n",
    "import glob\n",
    "import pandas as pd\n",
    "import matplotlib.pyplot as plt\n",
    "import seaborn as sns"
   ]
  },
  {
   "cell_type": "code",
   "execution_count": null,
   "metadata": {},
   "outputs": [],
   "source": [
    "plt.style.use('~/.mplstyle')\n",
    "plt.rcParams['figure.dpi'] = 150\n",
    "plt.rcParams['savefig.dpi'] = 150\n",
    "plt.rcParams['figure.figsize'] = 12,8"
   ]
  },
  {
   "cell_type": "code",
   "execution_count": null,
   "metadata": {},
   "outputs": [],
   "source": [
    "import numpy as np\n",
    "def show_labels(df):\n",
    "    # label points on the plot\n",
    "    for x, y in zip(df['Experiment'], df['Accuracy']):\n",
    "        # the position of the data label relative to the data point can be adjusted by adding/subtracting a value from the x &/ y coordinates\n",
    "        plt.text(x = x, # x-coordinate position of data label\n",
    "        y = y-150, # y-coordinate position of data label, adjusted to be 150 below the data point\n",
    "        s = '{:.0f}'.format(y), # data label, formatted to ignore decimals\n",
    "        color = 'purple') # set colour of line"
   ]
  },
  {
   "cell_type": "code",
   "execution_count": null,
   "metadata": {
    "scrolled": false
   },
   "outputs": [],
   "source": [
    "def get_pdf(exp_folder=\"results_codex/\"):\n",
    "    df = pd.DataFrame(columns=[\"Experiment\", \"Digit\", \"Accuracy\"])\n",
    "    df.sort_values('Accuracy', ascending=False)\n",
    "    df = df.loc[df['Experiment'] != 'main_order',:]\n",
    "    df = df.sort_values('Accuracy', ascending=False)\n",
    "    for file in glob.glob(f\"{exp_folder}/*.json\"):\n",
    "        with open(file, \"r\") as f:\n",
    "            d = json.load(f)\n",
    "            name = file.replace(exp_folder, \"\")\n",
    "            for k in ['3','4','5','6', '7']:\n",
    "                if k in d:\n",
    "                    df.loc[len(df)] = [name.split('.')[0], k, d[k]['accuracy']]\n",
    "                else:\n",
    "                    df.loc[len(df)] = [name.split('.')[0], k, pd.NA]\n",
    "    pdf = df.replace('no_brackets', '(-) Brackets')\n",
    "    pdf = pdf.replace('no_starting_from_rightmost_column', '(-) \"Starting from \\nrightmost column\"')\n",
    "    pdf = pdf.replace('without_comas_in_the_input', \"(-) Comma\")\n",
    "    pdf = pdf.replace('main_reverse_order', \"Predict only the\\nreverse order\")\n",
    "    pdf = pdf.replace('main_correct_order_v2', \"Predict only the\\ncorrect order\")\n",
    "    pdf = pdf.replace('no_instruction', \"(-) Instruction\")\n",
    "    pdf = pdf.replace('no_carry_on_indicator', \"(-) (c=carry)\")\n",
    "    pdf = pdf.replace('no_write_carry_string', \"(-) write x cary y\")\n",
    "    pdf = pdf.replace('no_perfect_calculator', '(-) \"I am a perfect Calculator\"')\n",
    "    pdf = pdf.replace('no_left_to_right', '(-) \"Least significant digit to \\nmost significant digit\"')\n",
    "    # pdf = pdf.replace('main_eval_in_correct_order', '(-) eval from reverse order')\n",
    "    return pdf\n",
    "    \n",
    "def plot_pdf(pdf):\n",
    "    fig, ax = plt.subplots(figsize=(12,8))\n",
    "    sns.pointplot(ax=ax, data=pdf[pdf['Experiment'] != 'main'], x=\"Experiment\", y=\"Accuracy\", hue='Digit', marker='.', scale = 0.5)\n",
    "    plt.title(\"Integer Addition with Ablated Prompts\")\n",
    "    plt.xlabel(\"Ablations\")\n",
    "    plt.xticks(rotation=90)\n",
    "    pdf = pdf.set_index(['Experiment', 'Digit'])\n",
    "    ax.axhline(pdf.loc['main', '3'][0], color=sns.color_palette()[0], linestyle='-', linewidth=1)\n",
    "    ax.axhline(pdf.loc['main', '4'][0], color=sns.color_palette()[1], linestyle='--', linewidth=1)\n",
    "    ax.axhline(pdf.loc['main', '5'][0], color=sns.color_palette()[2], linestyle='--', linewidth=1)\n",
    "    ax.axhline(pdf.loc['main', '6'][0], color=sns.color_palette()[3], linestyle='--', linewidth=1)\n",
    "    ax.set_yticks(np.linspace(0,0.9,10));\n",
    "    \n",
    "def plot_comparisons(pdf, prefix):\n",
    "    folder = os.path.join(\"plots\", prefix)\n",
    "    os.makedirs(folder, exist_ok=True)\n",
    "    color_palette = sns.color_palette(\"coolwarm\")\n",
    "    color_palette[:4] = [color_palette[1],color_palette[2], color_palette[3], color_palette[0]]\n",
    "    sns.set_palette(color_palette)\n",
    "    ### comp1\n",
    "    fig, ax = plt.subplots(figsize=(12,8))\n",
    "    df1 = pdf.reset_index().set_index('Experiment').loc[['gpt3_style', 'gpt3_style_zero_shot', 'main_eval_in_correct_order']].reset_index()\n",
    "    df1 = df1.replace(\"gpt3_style\", \"Few-Shot\")\n",
    "    df1 = df1.replace(\"gpt3_style_zero_shot\", \"Zero-Shot\")\n",
    "    df1 = df1.replace(\"main_eval_in_correct_oder\", \"Scratchpad\")\n",
    "    df1.Digit = df1.Digit.astype(int)\n",
    "    ax = sns.barplot(ax=ax, data=df1.reset_index(), x=\"Digit\", y=\"Accuracy\", hue='Experiment')\n",
    "    plt.title(\"Effect of the format in Few-Shot Examples\")\n",
    "    plt.savefig(os.path.join(folder,\"fewshot_zeroshot_scratchpad_plot.jpeg\"))\n",
    "    color_palette[:4] = [color_palette[2],color_palette[0], color_palette[1], color_palette[0]]\n",
    "    sns.set_palette(color_palette)\n",
    "    ### comp2\n",
    "    fig, ax = plt.subplots(figsize=(12,8))\n",
    "    df1 = pdf.reset_index().set_index('Experiment').loc[['main_eval_in_correct_order', 'gpt3_style_comma']].reset_index()\n",
    "    df1 = df1.replace(\"gpt3_style_comma\", \"Few Shot-Comma\")\n",
    "    df1 = df1.replace(\"main_eval_in_correct_order\", \"Scratchpad\")\n",
    "    df1.Digit = df1.Digit.astype(int)\n",
    "    ax = sns.barplot(ax=ax, data=df1.reset_index(), x=\"Digit\", y=\"Accuracy\", hue='Experiment')\n",
    "    plt.savefig(os.path.join(folder, \"comma_scratchpad_fewshot_plot.jpeg\"))\n",
    "    ### comp3\n",
    "    fig, ax = plt.subplots(figsize=(12,8))\n",
    "    df1 = pdf.reset_index().set_index('Experiment').loc[['gpt3_style', 'gpt3_style_space', 'gpt3_style_comma']].reset_index()\n",
    "    df1 = df1.replace(\"gpt3_style\", \"No Delimeter\")\n",
    "    df1 = df1.replace(\"gpt3_style_space\", \"Space\")\n",
    "    df1 = df1.replace(\"gpt3_style_comma\", \"Comma\")\n",
    "    df1.Digit = df1.Digit.astype(int)\n",
    "    ax = sns.barplot(ax=ax, data=df1.reset_index(), x=\"Digit\", y=\"Accuracy\", hue='Experiment')\n",
    "    plt.savefig(os.path.join(folder,\"different_fewshot_prompts_plot.jpeg\"))\n",
    "    ### comp4\n",
    "    fig, ax = plt.subplots(figsize=(12,8))\n",
    "    df1 = pdf.reset_index().set_index('Experiment').loc[['main_eval_in_correct_order', '(-) write x cary y']].reset_index()\n",
    "    df1 = df1.replace(\"main_eval_in_correct_order\", \"Scratchpad\")\n",
    "    df1.Digit = df1.Digit.astype(int)\n",
    "    ax = sns.barplot(ax=ax, data=df1.reset_index(), x=\"Digit\", y=\"Accuracy\", hue='Experiment')\n",
    "    plt.savefig(os.path.join(folder,\"no_write_carry_plot.jpeg\"))\n",
    "    ### comp5\n",
    "    fig, ax = plt.subplots(figsize=(12,8))\n",
    "    df1 = pdf.reset_index().set_index('Experiment').loc[['main_eval_in_correct_order', 'Predict only the\\ncorrect order']].reset_index()\n",
    "    df1 = df1.replace(\"main_eval_in_correct_order\", \"Scratchpad\")\n",
    "    df1 = df1.replace('Predict only the\\ncorrect order', \"(-) reverse order\")\n",
    "    df1.Digit = df1.Digit.astype(int)\n",
    "    ax = sns.barplot(ax=ax, data=df1.reset_index(), x=\"Digit\", y=\"Accuracy\", hue='Experiment')\n",
    "    plt.savefig(os.path.join(folder,\"no_reverse.jpeg\"))\n",
    "    ### comp6\n",
    "    fig, ax = plt.subplots(figsize=(12,8))\n",
    "    df1 = pdf.reset_index().set_index('Experiment').loc[['main_eval_in_correct_order', '(-) (c=carry)']].reset_index()\n",
    "    df1 = df1.replace(\"main_eval_in_correct_order\", \"Scratchpad\")\n",
    "    # df1 = df1.replace('Predict only the\\ncorrect order', \"(-) reverse order\")\n",
    "    df1.Digit = df1.Digit.astype(int)\n",
    "    ax = sns.barplot(ax=ax, data=df1.reset_index(), x=\"Digit\", y=\"Accuracy\", hue='Experiment')\n",
    "    plt.savefig(os.path.join(folder,\"no_carry_indicator.jpeg\"))\n",
    "    #comp 7\n",
    "    fig, ax = plt.subplots(figsize=(12,8))\n",
    "    df1 = pdf.reset_index().set_index('Experiment').loc[['main_eval_in_correct_order', '(-) \"I am a perfect Calculator\"']].reset_index()\n",
    "    df1 = df1.replace(\"main_eval_in_correct_order\", \"Scratchpad\")\n",
    "    # df1 = df1.replace('Predict only the\\ncorrect order', \"(-) reverse order\")\n",
    "    df1.Digit = df1.Digit.astype(int)\n",
    "    ax = sns.barplot(ax=ax, data=df1.reset_index(), x=\"Digit\", y=\"Accuracy\", hue='Experiment')\n",
    "    plt.savefig(os.path.join(folder,\"no_perfect_calculator.jpeg\"))\n",
    "    # comp 8\n",
    "    fig, ax = plt.subplots(figsize=(12,8))\n",
    "    df1 = pdf.reset_index().set_index('Experiment').loc[['main_eval_in_correct_order', '(-) \"Starting from \\nrightmost column\"']].reset_index()\n",
    "    df1 = df1.replace(\"main_eval_in_correct_order\", \"Scratchpad\")\n",
    "    # df1 = df1.replace('Predict only the\\ncorrect order', \"(-) reverse order\")\n",
    "    df1.Digit = df1.Digit.astype(int)\n",
    "    ax = sns.barplot(ax=ax, data=df1.reset_index(), x=\"Digit\", y=\"Accuracy\", hue='Experiment')\n",
    "    plt.savefig(os.path.join(folder,\"no_starting_from_rightmost_column.jpeg\"))\n",
    "    "
   ]
  },
  {
   "cell_type": "code",
   "execution_count": null,
   "metadata": {},
   "outputs": [],
   "source": [
    "pdf = get_pdf(\"results_codex/\")\n",
    "plot_pdf(pdf)\n",
    "plot_comparisons(pdf, prefix=\"results_codex/\")"
   ]
  },
  {
   "cell_type": "markdown",
   "metadata": {},
   "source": []
  },
  {
   "cell_type": "code",
   "execution_count": null,
   "metadata": {},
   "outputs": [],
   "source": [
    "plot_exp_folder(\"results_davinci/\")"
   ]
  },
  {
   "cell_type": "code",
   "execution_count": null,
   "metadata": {},
   "outputs": [],
   "source": []
  },
  {
   "cell_type": "code",
   "execution_count": null,
   "metadata": {},
   "outputs": [],
   "source": []
  }
 ],
 "metadata": {
  "interpreter": {
   "hash": "dfcbbdb095fd04733f2caa1ee46f086280634f7e099b632a44d061d405ef507a"
  },
  "kernelspec": {
   "display_name": "Python 3.7.6 ('.venv': venv)",
   "language": "python",
   "name": "python3"
  },
  "language_info": {
   "codemirror_mode": {
    "name": "ipython",
    "version": 3
   },
   "file_extension": ".py",
   "mimetype": "text/x-python",
   "name": "python",
   "nbconvert_exporter": "python",
   "pygments_lexer": "ipython3",
   "version": "3.7.6"
  }
 },
 "nbformat": 4,
 "nbformat_minor": 4
}
